{
 "cells": [
  {
   "cell_type": "code",
   "execution_count": 4,
   "metadata": {},
   "outputs": [
    {
     "name": "stdout",
     "output_type": "stream",
     "text": [
      "showing info https://raw.githubusercontent.com/nltk/nltk_data/gh-pages/index.xml\n"
     ]
    },
    {
     "name": "stderr",
     "output_type": "stream",
     "text": [
      "[nltk_data] Downloading package wordnet to\n",
      "[nltk_data]     /Users/lifeifan/nltk_data...\n",
      "[nltk_data]   Package wordnet is already up-to-date!\n",
      "[nltk_data] Downloading package stopwords to\n",
      "[nltk_data]     /Users/lifeifan/nltk_data...\n",
      "[nltk_data]   Package stopwords is already up-to-date!\n"
     ]
    }
   ],
   "source": [
    "import pandas as pd\n",
    "\n",
    "import string\n",
    "import re\n",
    "\n",
    "import matplotlib.pyplot as plt\n",
    "import pandas as pd\n",
    "import sklearn\n",
    "\n",
    "from sklearn.model_selection import train_test_split\n",
    "import numpy as np\n",
    "\n",
    "import nltk\n",
    "import data_cleaning\n",
    "from nltk.corpus import stopwords\n",
    "from nltk.stem import WordNetLemmatizer\n",
    "import ssl\n",
    "\n",
    "try:\n",
    "    _create_unverified_https_context = ssl._create_unverified_context\n",
    "except AttributeError:\n",
    "    pass\n",
    "else:\n",
    "    ssl._create_default_https_context = _create_unverified_https_context\n",
    "\n",
    "nltk.download()\n",
    "\n",
    "nltk.download('wordnet')\n",
    "nltk.download('stopwords')\n",
    "\n",
    "import nltk\n",
    "\n",
    "\n",
    "from nltk.stem import PorterStemmer\n",
    "\n",
    "lemmatizer = WordNetLemmatizer()\n",
    "\n",
    "# import tensorflow as tf\n",
    "\n",
    "df = pd.read_csv(\"/Users/lifeifan/Desktop/ece1786/PolitiTrend/p_and_c.csv\")\n",
    "\n",
    "df['cmp_code'] = df['cmp_code'].replace({'conservatism': 0, 'progressivism': 1})\n",
    "df = df.rename(columns={'cmp_code': 'label'})\n"
   ]
  },
  {
   "cell_type": "code",
   "execution_count": 5,
   "metadata": {},
   "outputs": [],
   "source": [
    "cleaned_data = data_cleaning.remove_stop_words(df,\"text\",\"cleaned_text\")\n",
    "cleaned_data = data_cleaning.remove_punctuations(cleaned_data,\"cleaned_text\",\"cleaned_text\")\n",
    "cleaned_data = data_cleaning.lemm_text(cleaned_data,\"cleaned_text\",\"cleaned_text\")\n",
    "\n",
    "df.to_csv('cleaned_data.csv', index=False)\n"
   ]
  },
  {
   "cell_type": "code",
   "execution_count": 6,
   "metadata": {},
   "outputs": [],
   "source": [
    "from transformers import BertTokenizer, TFBertModel, BertConfig, TFBertForSequenceClassification"
   ]
  },
  {
   "cell_type": "code",
   "execution_count": 7,
   "metadata": {},
   "outputs": [],
   "source": [
    "tokenizer = BertTokenizer.from_pretrained('bert-base-uncased', do_lower_case=True)"
   ]
  },
  {
   "cell_type": "code",
   "execution_count": 8,
   "metadata": {},
   "outputs": [],
   "source": [
    "texts = cleaned_data.cleaned_text.values\n",
    "labels = df.label.values"
   ]
  },
  {
   "cell_type": "code",
   "execution_count": 9,
   "metadata": {},
   "outputs": [],
   "source": [
    "train_input, val_input, train_label, val_label=train_test_split (texts, labels)"
   ]
  },
  {
   "cell_type": "code",
   "execution_count": 10,
   "metadata": {},
   "outputs": [
    {
     "name": "stdout",
     "output_type": "stream",
     "text": [
      "500\n"
     ]
    }
   ],
   "source": [
    "print(len(val_input))"
   ]
  },
  {
   "cell_type": "code",
   "execution_count": 11,
   "metadata": {},
   "outputs": [
    {
     "name": "stdout",
     "output_type": "stream",
     "text": [
      "Max sentence length:  361\n"
     ]
    }
   ],
   "source": [
    "max_len = 0\n",
    "for content in texts:\n",
    "    max_len = max(max_len, len(content))\n",
    "print('Max sentence length: ', max_len)\n"
   ]
  },
  {
   "cell_type": "code",
   "execution_count": 12,
   "metadata": {},
   "outputs": [
    {
     "name": "stdout",
     "output_type": "stream",
     "text": [
      "token [2021, 2116, 4841, 2187, 2187, 2369]\n"
     ]
    }
   ],
   "source": [
    "print(\"token\",tokenizer.convert_tokens_to_ids(tokenizer.tokenize(texts[0])))"
   ]
  },
  {
   "cell_type": "code",
   "execution_count": 13,
   "metadata": {},
   "outputs": [],
   "source": [
    "import torch\n",
    "import tensorflow as tf\n",
    "def mask_inputs_for_bert (text,max_len):\n",
    "    attention_masks = []\n",
    "    input_ids = []\n",
    "    i = 0\n",
    "    for content in text:\n",
    "\n",
    "        encoded_dict = tokenizer.encode_plus(\n",
    "            content,\n",
    "            add_special_tokens = True, \n",
    "            max_length= max_len,\n",
    "            pad_to_max_length = True,\n",
    "            return_attention_mask = True, \n",
    "        )\n",
    "\n",
    "\n",
    "        input_ids.append(encoded_dict['input_ids'])\n",
    "        attention_masks.append(encoded_dict['attention_mask'])\n",
    "\n",
    "        #convert to tensor and return\n",
    "    input_ids = tf.convert_to_tensor(input_ids)\n",
    "    attention_masks = tf.convert_to_tensor(attention_masks)\n",
    "    return input_ids, attention_masks"
   ]
  },
  {
   "cell_type": "code",
   "execution_count": 14,
   "metadata": {},
   "outputs": [
    {
     "name": "stderr",
     "output_type": "stream",
     "text": [
      "Truncation was not explicitly activated but `max_length` is provided a specific value, please use `truncation=True` to explicitly truncate examples to max length. Defaulting to 'longest_first' truncation strategy. If you encode pairs of sequences (GLUE-style) with the tokenizer you can select this strategy more precisely by providing a specific strategy to `truncation`.\n",
      "/Users/lifeifan/anaconda3/lib/python3.11/site-packages/transformers/tokenization_utils_base.py:2418: FutureWarning: The `pad_to_max_length` argument is deprecated and will be removed in a future version, use `padding=True` or `padding='longest'` to pad to the longest sequence in the batch, or use `padding='max_length'` to pad to a max length. In this case, you can give a specific length with `max_length` (e.g. `max_length=45`) or leave max_length to None to pad to the maximal input size of the model (e.g. 512 for Bert).\n",
      "  warnings.warn(\n"
     ]
    },
    {
     "name": "stdout",
     "output_type": "stream",
     "text": [
      "Train_input_shape (1500, 361)\n",
      "Train_mask_shape (1500, 361)\n",
      "Validation_input_shape (500, 361)\n",
      "Validation_mask_shape (500, 361)\n",
      "Train_labelshape (1500,)\n",
      "Validation_label_shape (500,)\n"
     ]
    }
   ],
   "source": [
    "train_inp, train_mask = mask_inputs_for_bert (train_input,max_len) \n",
    "val_inp, val_mask = mask_inputs_for_bert (val_input, max_len) \n",
    "train_label =  tf.convert_to_tensor(train_label)\n",
    "val_label =  tf.convert_to_tensor(val_label)\n",
    "print(\"Train_input_shape\", train_inp.shape) \n",
    "print(\"Train_mask_shape\", train_mask.shape) \n",
    "print(\"Validation_input_shape\", val_inp.shape) \n",
    "print(\"Validation_mask_shape\", val_mask.shape) \n",
    "print(\"Train_labelshape\", train_label.shape) \n",
    "print(\"Validation_label_shape\", val_label.shape)"
   ]
  },
  {
   "cell_type": "code",
   "execution_count": 15,
   "metadata": {},
   "outputs": [
    {
     "name": "stdout",
     "output_type": "stream",
     "text": [
      "tf.Tensor(\n",
      "[[  101  2057  3331 ...     0     0     0]\n",
      " [  101  2298  2646 ...     0     0     0]\n",
      " [  101  2057  2954 ...     0     0     0]\n",
      " ...\n",
      " [  101  1998  3904 ...     0     0     0]\n",
      " [  101  8037 10439 ...     0     0     0]\n",
      " [  101  2057  8970 ...     0     0     0]], shape=(1500, 361), dtype=int32)\n"
     ]
    }
   ],
   "source": [
    "print(train_inp)"
   ]
  },
  {
   "cell_type": "code",
   "execution_count": 16,
   "metadata": {},
   "outputs": [
    {
     "name": "stderr",
     "output_type": "stream",
     "text": [
      "All PyTorch model weights were used when initializing TFBertForSequenceClassification.\n",
      "\n",
      "Some weights or buffers of the TF 2.0 model TFBertForSequenceClassification were not initialized from the PyTorch model and are newly initialized: ['classifier.weight', 'classifier.bias']\n",
      "You should probably TRAIN this model on a down-stream task to be able to use it for predictions and inference.\n"
     ]
    }
   ],
   "source": [
    "model = TFBertForSequenceClassification.from_pretrained(\"bert-base-uncased\", num_labels=2)"
   ]
  },
  {
   "cell_type": "code",
   "execution_count": 17,
   "metadata": {},
   "outputs": [
    {
     "name": "stdout",
     "output_type": "stream",
     "text": [
      "Model: \"tf_bert_for_sequence_classification\"\n",
      "_________________________________________________________________\n",
      " Layer (type)                Output Shape              Param #   \n",
      "=================================================================\n",
      " bert (TFBertMainLayer)      multiple                  109482240 \n",
      "                                                                 \n",
      " dropout_37 (Dropout)        multiple                  0         \n",
      "                                                                 \n",
      " classifier (Dense)          multiple                  1538      \n",
      "                                                                 \n",
      "=================================================================\n",
      "Total params: 109483778 (417.65 MB)\n",
      "Trainable params: 109483778 (417.65 MB)\n",
      "Non-trainable params: 0 (0.00 Byte)\n",
      "_________________________________________________________________\n",
      "\n",
      "Bert Model None\n"
     ]
    }
   ],
   "source": [
    "\n",
    "log_dir='/Users/lifeifan/Desktop/ece1786/project/'\n",
    "model_save_path='/Users/lifeifan/Desktop/ece1786/project/bert.h5'\n",
    "callbacks = [tf.keras.callbacks. ModelCheckpoint (filepath=model_save_path,\n",
    "                                                    save_weights_only=True,\n",
    "                                                    monitor= 'val_loss', \n",
    "                                                    mode='min',\n",
    "                                                    save_best_only=True),\n",
    "                                                    tf.keras.callbacks.TensorBoard (log_dir=log_dir)]\n",
    "print('\\nBert Model', model.summary())\n",
    "loss = tf.keras.losses. SparseCategoricalCrossentropy (from_logits=True) \n",
    "metric = tf.keras.metrics. SparseCategoricalAccuracy('accuracy')\n",
    "optimizer= tf.keras.optimizers.legacy.Adam (learning_rate=2e-5, epsilon=1e-08)\n",
    "model.compile(loss=loss, optimizer=optimizer, metrics=[metric])"
   ]
  },
  {
   "cell_type": "code",
   "execution_count": 18,
   "metadata": {},
   "outputs": [
    {
     "name": "stdout",
     "output_type": "stream",
     "text": [
      "Epoch 1/2\n",
      "47/47 [==============================] - 1644s 35s/step - loss: 0.6712 - accuracy: 0.5700 - val_loss: 0.6011 - val_accuracy: 0.7000\n",
      "Epoch 2/2\n",
      "47/47 [==============================] - 1902s 41s/step - loss: 0.5152 - accuracy: 0.7560 - val_loss: 0.5024 - val_accuracy: 0.7480\n"
     ]
    }
   ],
   "source": [
    "history=model.fit([train_inp, train_mask],\n",
    "                    train_label,\n",
    "                    batch_size=32,\n",
    "                    epochs=2,\n",
    "                    validation_data=([val_inp, val_mask], val_label),\n",
    "                    callbacks=callbacks)"
   ]
  },
  {
   "cell_type": "code",
   "execution_count": 23,
   "metadata": {},
   "outputs": [
    {
     "name": "stdout",
     "output_type": "stream",
     "text": [
      "<keras.src.callbacks.History object at 0x2c7a84a60>\n"
     ]
    }
   ],
   "source": [
    "print(history)"
   ]
  },
  {
   "cell_type": "code",
   "execution_count": 19,
   "metadata": {},
   "outputs": [],
   "source": [
    "train_acc = [0.5700,0.7560]\n",
    "validation_acc = [0.7000,0.7480]"
   ]
  },
  {
   "cell_type": "code",
   "execution_count": 22,
   "metadata": {},
   "outputs": [],
   "source": [
    "train_loss = [0.6712,0.5152]\n",
    "validation_loss = [0.6011,0.5024]"
   ]
  },
  {
   "cell_type": "code",
   "execution_count": 20,
   "metadata": {},
   "outputs": [
    {
     "data": {
      "text/plain": [
       "<matplotlib.legend.Legend at 0x2fd7487d0>"
      ]
     },
     "execution_count": 20,
     "metadata": {},
     "output_type": "execute_result"
    },
    {
     "data": {
      "image/png": "[encoded data removed]",
      "text/plain": [
       "<Figure size 640x480 with 1 Axes>"
      ]
     },
     "metadata": {},
     "output_type": "display_data"
    }
   ],
   "source": [
    "# plt.plot(train_acc, label='train accuracy')\n",
    "# plt.plot(validation_acc, label='validation accuracy')\n",
    "plt.plot(train_acc, color=\"r\", linestyle=\"-\", linewidth=1)  \n",
    "plt.plot(validation_acc, color=\"b\", linestyle=\"-\",  linewidth=1)\n",
    "plt.title('Train and validation accuracy')\n",
    "plt.legend([\"train_acc\", \"validation_acc\"])"
   ]
  },
  {
   "cell_type": "code",
   "execution_count": 23,
   "metadata": {},
   "outputs": [
    {
     "data": {
      "text/plain": [
       "<matplotlib.legend.Legend at 0x2b1e47950>"
      ]
     },
     "execution_count": 23,
     "metadata": {},
     "output_type": "execute_result"
    },
    {
     "data": {
      "image/png": "[encoded data removed]",
      "text/plain": [
       "<Figure size 640x480 with 1 Axes>"
      ]
     },
     "metadata": {},
     "output_type": "display_data"
    },
    {
     "ename": "",
     "evalue": "",
     "output_type": "error",
     "traceback": [
      "\u001b[1;31m在当前单元格或上一个单元格中执行代码时 Kernel 崩溃。请查看单元格中的代码，以确定故障的可能原因。有关详细信息，请单击 <a href='https://aka.ms/vscodeJupyterKernelCrash'>此处</a>。有关更多详细信息，请查看 Jupyter <a href='command:jupyter.viewOutput'>log</a>。"
     ]
    }
   ],
   "source": [
    "# plt.plot(train_acc, label='train accuracy')\n",
    "# plt.plot(validation_acc, label='validation accuracy')\n",
    "plt.plot(train_loss, color=\"r\", linestyle=\"-\", linewidth=1)  \n",
    "plt.plot(validation_loss, color=\"b\", linestyle=\"-\",  linewidth=1)\n",
    "plt.title('Train and validation loss')\n",
    "plt.legend([\"train_loss\", \"validation_loss\"])"
   ]
  },
  {
   "cell_type": "code",
   "execution_count": 2,
   "metadata": {},
   "outputs": [
    {
     "name": "stderr",
     "output_type": "stream",
     "text": [
      "All PyTorch model weights were used when initializing TFBertForSequenceClassification.\n",
      "\n",
      "Some weights or buffers of the TF 2.0 model TFBertForSequenceClassification were not initialized from the PyTorch model and are newly initialized: ['classifier.weight', 'classifier.bias']\n",
      "You should probably TRAIN this model on a down-stream task to be able to use it for predictions and inference.\n"
     ]
    }
   ],
   "source": [
    "import tensorflow as tf\n",
    "from transformers import BertTokenizerFast,TFBertForSequenceClassification\n",
    "model = TFBertForSequenceClassification.from_pretrained(\"bert-base-uncased\",num_labels=2)\n",
    "model.load_weights('/Users/lifeifan/Desktop/ece1786/project/bert.h5')\n",
    "\n"
   ]
  },
  {
   "cell_type": "code",
   "execution_count": null,
   "metadata": {},
   "outputs": [
    {
     "name": "stdout",
     "output_type": "stream",
     "text": [
      "tf.Tensor([[0.4221253  0.57787466]], shape=(1, 2), dtype=float32)\n",
      "tf.Tensor([1], shape=(1,), dtype=int64)\n",
      "tf.Tensor([1], shape=(1,), dtype=int64)\n"
     ]
    }
   ],
   "source": [
    "\n",
    "\n",
    "import tensorflow as tf\n",
    "from transformers import BertTokenizer, TFBertForSequenceClassification\n",
    "\n",
    "# Load the pre-trained BERT model and tokenizer\n",
    "model_name = \"bert-base-uncased\"\n",
    "tokenizer = BertTokenizer.from_pretrained(model_name)\n",
    "\n",
    "# Preprocess your single sentence\n",
    "# input_text = \"Respect for women's rights and interests\"\n",
    "input_text = \"Respect for traditional ethical values\"\n",
    "\n",
    "input_ids = tokenizer.encode(input_text, add_special_tokens=True, return_tensors=\"tf\")\n",
    "predictions = model(input_ids)\n",
    "import numpy as np\n",
    "\n",
    "logits = predictions.logits\n",
    "probabilities = tf.nn.softmax(logits, axis=1)\n",
    "print(probabilities)\n",
    "predicted_class = tf.argmax(probabilities, axis=1)\n",
    "print(predicted_class)\n",
    "\n",
    "class_labels = ['con', 'pro']\n",
    "predicted_label = class_labels[predicted_class.numpy()[0]]\n",
    "print(predicted_class)"
   ]
  }
 ],
 "metadata": {
  "kernelspec": {
   "display_name": "Python 3",
   "language": "python",
   "name": "python3"
  },
  "language_info": {
   "codemirror_mode": {
    "name": "ipython",
    "version": 3
   },
   "file_extension": ".py",
   "mimetype": "text/x-python",
   "name": "python",
   "nbconvert_exporter": "python",
   "pygments_lexer": "ipython3",
   "version": "3.11.5"
  },
  "vscode": {
   "interpreter": {
    "hash": "aee8b7b246df8f9039afb4144a1f6fd8d2ca17a180786b69acc140d282b71a49"
   }
  }
 },
 "nbformat": 4,
 "nbformat_minor": 2
}
